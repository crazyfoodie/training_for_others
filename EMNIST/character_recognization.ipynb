{
 "cells": [
  {
   "cell_type": "code",
   "execution_count": 3,
   "metadata": {},
   "outputs": [],
   "source": [
    "import numpy as np\n",
    "import pandas as pd\n",
    "import cv2 \n",
    "import matplotlib.pyplot as plt\n",
    "%matplotlib inline"
   ]
  },
  {
   "cell_type": "code",
   "execution_count": 2,
   "metadata": {},
   "outputs": [
    {
     "data": {
      "text/html": [
       "<div>\n",
       "<style scoped>\n",
       "    .dataframe tbody tr th:only-of-type {\n",
       "        vertical-align: middle;\n",
       "    }\n",
       "\n",
       "    .dataframe tbody tr th {\n",
       "        vertical-align: top;\n",
       "    }\n",
       "\n",
       "    .dataframe thead th {\n",
       "        text-align: right;\n",
       "    }\n",
       "</style>\n",
       "<table border=\"1\" class=\"dataframe\">\n",
       "  <thead>\n",
       "    <tr style=\"text-align: right;\">\n",
       "      <th></th>\n",
       "      <th>0</th>\n",
       "      <th>1</th>\n",
       "      <th>2</th>\n",
       "      <th>3</th>\n",
       "      <th>4</th>\n",
       "      <th>5</th>\n",
       "      <th>6</th>\n",
       "      <th>7</th>\n",
       "      <th>8</th>\n",
       "      <th>9</th>\n",
       "      <th>...</th>\n",
       "      <th>775</th>\n",
       "      <th>776</th>\n",
       "      <th>777</th>\n",
       "      <th>778</th>\n",
       "      <th>779</th>\n",
       "      <th>780</th>\n",
       "      <th>781</th>\n",
       "      <th>782</th>\n",
       "      <th>783</th>\n",
       "      <th>784</th>\n",
       "    </tr>\n",
       "  </thead>\n",
       "  <tbody>\n",
       "    <tr>\n",
       "      <th>0</th>\n",
       "      <td>45</td>\n",
       "      <td>0</td>\n",
       "      <td>0</td>\n",
       "      <td>0</td>\n",
       "      <td>0</td>\n",
       "      <td>0</td>\n",
       "      <td>0</td>\n",
       "      <td>0</td>\n",
       "      <td>0</td>\n",
       "      <td>0</td>\n",
       "      <td>...</td>\n",
       "      <td>0</td>\n",
       "      <td>0</td>\n",
       "      <td>0</td>\n",
       "      <td>0</td>\n",
       "      <td>0</td>\n",
       "      <td>0</td>\n",
       "      <td>0</td>\n",
       "      <td>0</td>\n",
       "      <td>0</td>\n",
       "      <td>0</td>\n",
       "    </tr>\n",
       "    <tr>\n",
       "      <th>1</th>\n",
       "      <td>36</td>\n",
       "      <td>0</td>\n",
       "      <td>0</td>\n",
       "      <td>0</td>\n",
       "      <td>0</td>\n",
       "      <td>0</td>\n",
       "      <td>0</td>\n",
       "      <td>0</td>\n",
       "      <td>0</td>\n",
       "      <td>0</td>\n",
       "      <td>...</td>\n",
       "      <td>0</td>\n",
       "      <td>0</td>\n",
       "      <td>0</td>\n",
       "      <td>0</td>\n",
       "      <td>0</td>\n",
       "      <td>0</td>\n",
       "      <td>0</td>\n",
       "      <td>0</td>\n",
       "      <td>0</td>\n",
       "      <td>0</td>\n",
       "    </tr>\n",
       "    <tr>\n",
       "      <th>2</th>\n",
       "      <td>43</td>\n",
       "      <td>0</td>\n",
       "      <td>0</td>\n",
       "      <td>0</td>\n",
       "      <td>0</td>\n",
       "      <td>0</td>\n",
       "      <td>0</td>\n",
       "      <td>0</td>\n",
       "      <td>0</td>\n",
       "      <td>0</td>\n",
       "      <td>...</td>\n",
       "      <td>0</td>\n",
       "      <td>0</td>\n",
       "      <td>0</td>\n",
       "      <td>0</td>\n",
       "      <td>0</td>\n",
       "      <td>0</td>\n",
       "      <td>0</td>\n",
       "      <td>0</td>\n",
       "      <td>0</td>\n",
       "      <td>0</td>\n",
       "    </tr>\n",
       "    <tr>\n",
       "      <th>3</th>\n",
       "      <td>15</td>\n",
       "      <td>0</td>\n",
       "      <td>0</td>\n",
       "      <td>0</td>\n",
       "      <td>0</td>\n",
       "      <td>0</td>\n",
       "      <td>0</td>\n",
       "      <td>0</td>\n",
       "      <td>0</td>\n",
       "      <td>0</td>\n",
       "      <td>...</td>\n",
       "      <td>0</td>\n",
       "      <td>0</td>\n",
       "      <td>0</td>\n",
       "      <td>0</td>\n",
       "      <td>0</td>\n",
       "      <td>0</td>\n",
       "      <td>0</td>\n",
       "      <td>0</td>\n",
       "      <td>0</td>\n",
       "      <td>0</td>\n",
       "    </tr>\n",
       "    <tr>\n",
       "      <th>4</th>\n",
       "      <td>4</td>\n",
       "      <td>0</td>\n",
       "      <td>0</td>\n",
       "      <td>0</td>\n",
       "      <td>0</td>\n",
       "      <td>0</td>\n",
       "      <td>0</td>\n",
       "      <td>0</td>\n",
       "      <td>0</td>\n",
       "      <td>0</td>\n",
       "      <td>...</td>\n",
       "      <td>0</td>\n",
       "      <td>0</td>\n",
       "      <td>0</td>\n",
       "      <td>0</td>\n",
       "      <td>0</td>\n",
       "      <td>0</td>\n",
       "      <td>0</td>\n",
       "      <td>0</td>\n",
       "      <td>0</td>\n",
       "      <td>0</td>\n",
       "    </tr>\n",
       "  </tbody>\n",
       "</table>\n",
       "<p>5 rows × 785 columns</p>\n",
       "</div>"
      ],
      "text/plain": [
       "   0    1    2    3    4    5    6    7    8    9   ...   775  776  777  778  \\\n",
       "0   45    0    0    0    0    0    0    0    0    0 ...     0    0    0    0   \n",
       "1   36    0    0    0    0    0    0    0    0    0 ...     0    0    0    0   \n",
       "2   43    0    0    0    0    0    0    0    0    0 ...     0    0    0    0   \n",
       "3   15    0    0    0    0    0    0    0    0    0 ...     0    0    0    0   \n",
       "4    4    0    0    0    0    0    0    0    0    0 ...     0    0    0    0   \n",
       "\n",
       "   779  780  781  782  783  784  \n",
       "0    0    0    0    0    0    0  \n",
       "1    0    0    0    0    0    0  \n",
       "2    0    0    0    0    0    0  \n",
       "3    0    0    0    0    0    0  \n",
       "4    0    0    0    0    0    0  \n",
       "\n",
       "[5 rows x 785 columns]"
      ]
     },
     "execution_count": 2,
     "metadata": {},
     "output_type": "execute_result"
    }
   ],
   "source": [
    "train = pd.read_csv('emnist-balanced-train.csv', header=None)\n",
    "test = pd.read_csv('emnist-balanced-test.csv', header=None)\n",
    "train.head()\n"
   ]
  },
  {
   "cell_type": "code",
   "execution_count": 3,
   "metadata": {},
   "outputs": [
    {
     "data": {
      "text/html": [
       "<div>\n",
       "<style scoped>\n",
       "    .dataframe tbody tr th:only-of-type {\n",
       "        vertical-align: middle;\n",
       "    }\n",
       "\n",
       "    .dataframe tbody tr th {\n",
       "        vertical-align: top;\n",
       "    }\n",
       "\n",
       "    .dataframe thead th {\n",
       "        text-align: right;\n",
       "    }\n",
       "</style>\n",
       "<table border=\"1\" class=\"dataframe\">\n",
       "  <thead>\n",
       "    <tr style=\"text-align: right;\">\n",
       "      <th></th>\n",
       "      <th>0</th>\n",
       "      <th>1</th>\n",
       "      <th>2</th>\n",
       "      <th>3</th>\n",
       "      <th>4</th>\n",
       "      <th>5</th>\n",
       "      <th>6</th>\n",
       "      <th>7</th>\n",
       "      <th>8</th>\n",
       "      <th>9</th>\n",
       "      <th>...</th>\n",
       "      <th>37</th>\n",
       "      <th>38</th>\n",
       "      <th>39</th>\n",
       "      <th>40</th>\n",
       "      <th>41</th>\n",
       "      <th>42</th>\n",
       "      <th>43</th>\n",
       "      <th>44</th>\n",
       "      <th>45</th>\n",
       "      <th>46</th>\n",
       "    </tr>\n",
       "  </thead>\n",
       "  <tbody>\n",
       "    <tr>\n",
       "      <th>0</th>\n",
       "      <td>0</td>\n",
       "      <td>0</td>\n",
       "      <td>0</td>\n",
       "      <td>0</td>\n",
       "      <td>0</td>\n",
       "      <td>0</td>\n",
       "      <td>0</td>\n",
       "      <td>0</td>\n",
       "      <td>0</td>\n",
       "      <td>0</td>\n",
       "      <td>...</td>\n",
       "      <td>0</td>\n",
       "      <td>0</td>\n",
       "      <td>0</td>\n",
       "      <td>0</td>\n",
       "      <td>0</td>\n",
       "      <td>0</td>\n",
       "      <td>0</td>\n",
       "      <td>0</td>\n",
       "      <td>1</td>\n",
       "      <td>0</td>\n",
       "    </tr>\n",
       "    <tr>\n",
       "      <th>1</th>\n",
       "      <td>0</td>\n",
       "      <td>0</td>\n",
       "      <td>0</td>\n",
       "      <td>0</td>\n",
       "      <td>0</td>\n",
       "      <td>0</td>\n",
       "      <td>0</td>\n",
       "      <td>0</td>\n",
       "      <td>0</td>\n",
       "      <td>0</td>\n",
       "      <td>...</td>\n",
       "      <td>0</td>\n",
       "      <td>0</td>\n",
       "      <td>0</td>\n",
       "      <td>0</td>\n",
       "      <td>0</td>\n",
       "      <td>0</td>\n",
       "      <td>0</td>\n",
       "      <td>0</td>\n",
       "      <td>0</td>\n",
       "      <td>0</td>\n",
       "    </tr>\n",
       "    <tr>\n",
       "      <th>2</th>\n",
       "      <td>0</td>\n",
       "      <td>0</td>\n",
       "      <td>0</td>\n",
       "      <td>0</td>\n",
       "      <td>0</td>\n",
       "      <td>0</td>\n",
       "      <td>0</td>\n",
       "      <td>0</td>\n",
       "      <td>0</td>\n",
       "      <td>0</td>\n",
       "      <td>...</td>\n",
       "      <td>0</td>\n",
       "      <td>0</td>\n",
       "      <td>0</td>\n",
       "      <td>0</td>\n",
       "      <td>0</td>\n",
       "      <td>0</td>\n",
       "      <td>1</td>\n",
       "      <td>0</td>\n",
       "      <td>0</td>\n",
       "      <td>0</td>\n",
       "    </tr>\n",
       "    <tr>\n",
       "      <th>3</th>\n",
       "      <td>0</td>\n",
       "      <td>0</td>\n",
       "      <td>0</td>\n",
       "      <td>0</td>\n",
       "      <td>0</td>\n",
       "      <td>0</td>\n",
       "      <td>0</td>\n",
       "      <td>0</td>\n",
       "      <td>0</td>\n",
       "      <td>0</td>\n",
       "      <td>...</td>\n",
       "      <td>0</td>\n",
       "      <td>0</td>\n",
       "      <td>0</td>\n",
       "      <td>0</td>\n",
       "      <td>0</td>\n",
       "      <td>0</td>\n",
       "      <td>0</td>\n",
       "      <td>0</td>\n",
       "      <td>0</td>\n",
       "      <td>0</td>\n",
       "    </tr>\n",
       "    <tr>\n",
       "      <th>4</th>\n",
       "      <td>0</td>\n",
       "      <td>0</td>\n",
       "      <td>0</td>\n",
       "      <td>0</td>\n",
       "      <td>1</td>\n",
       "      <td>0</td>\n",
       "      <td>0</td>\n",
       "      <td>0</td>\n",
       "      <td>0</td>\n",
       "      <td>0</td>\n",
       "      <td>...</td>\n",
       "      <td>0</td>\n",
       "      <td>0</td>\n",
       "      <td>0</td>\n",
       "      <td>0</td>\n",
       "      <td>0</td>\n",
       "      <td>0</td>\n",
       "      <td>0</td>\n",
       "      <td>0</td>\n",
       "      <td>0</td>\n",
       "      <td>0</td>\n",
       "    </tr>\n",
       "  </tbody>\n",
       "</table>\n",
       "<p>5 rows × 47 columns</p>\n",
       "</div>"
      ],
      "text/plain": [
       "   0   1   2   3   4   5   6   7   8   9  ...  37  38  39  40  41  42  43  44  \\\n",
       "0   0   0   0   0   0   0   0   0   0   0 ...   0   0   0   0   0   0   0   0   \n",
       "1   0   0   0   0   0   0   0   0   0   0 ...   0   0   0   0   0   0   0   0   \n",
       "2   0   0   0   0   0   0   0   0   0   0 ...   0   0   0   0   0   0   1   0   \n",
       "3   0   0   0   0   0   0   0   0   0   0 ...   0   0   0   0   0   0   0   0   \n",
       "4   0   0   0   0   1   0   0   0   0   0 ...   0   0   0   0   0   0   0   0   \n",
       "\n",
       "   45  46  \n",
       "0   1   0  \n",
       "1   0   0  \n",
       "2   0   0  \n",
       "3   0   0  \n",
       "4   0   0  \n",
       "\n",
       "[5 rows x 47 columns]"
      ]
     },
     "execution_count": 3,
     "metadata": {},
     "output_type": "execute_result"
    }
   ],
   "source": [
    "# Now split labels and images from original dataframe.\n",
    "train_data = train.iloc[:, 1:]\n",
    "train_labels = train.iloc[:, 0]\n",
    "test_data = test.iloc[:, 1:]\n",
    "test_labels = test.iloc[:, 0]\n",
    "# one hot \n",
    "train_labels = pd.get_dummies(train_labels)\n",
    "test_labels = pd.get_dummies(test_labels)\n",
    "train_labels.head()"
   ]
  },
  {
   "cell_type": "code",
   "execution_count": null,
   "metadata": {},
   "outputs": [],
   "source": []
  },
  {
   "cell_type": "code",
   "execution_count": 4,
   "metadata": {},
   "outputs": [
    {
     "data": {
      "image/png": "[encoded data removed]",
      "text/plain": [
       "<Figure size 432x288 with 1 Axes>"
      ]
     },
     "metadata": {},
     "output_type": "display_data"
    }
   ],
   "source": [
    "# Turn our Dataframes into numpy array and delete train and test to save up memory.\n",
    "train_data = train_data.values\n",
    "train_labels = train_labels.values\n",
    "test_data = test_data.values\n",
    "test_labels = test_labels.values\n",
    "del train, test\n",
    "# For some reason, sadly, the EMNIST dataset was rotated and flipped and we need fix that.\n",
    "import matplotlib.pyplot as plt\n",
    "%matplotlib inline\n",
    "plt.imshow(train_data[45].reshape([28, 28]), cmap='Greys_r')\n",
    "plt.show()\n"
   ]
  },
  {
   "cell_type": "code",
   "execution_count": 5,
   "metadata": {},
   "outputs": [
    {
     "data": {
      "image/png": "[encoded data removed]",
      "text/plain": [
       "<Figure size 432x288 with 1 Axes>"
      ]
     },
     "metadata": {},
     "output_type": "display_data"
    }
   ],
   "source": [
    "def rotate(image):\n",
    "    image = image.reshape([28, 28])\n",
    "    image = np.fliplr(image)\n",
    "    image = np.rot90(image)\n",
    "    return image.reshape([28,28,1])\n",
    "    \n",
    "train_data = np.apply_along_axis(rotate, 1, train_data)/255\n",
    "test_data = np.apply_along_axis(rotate, 1, test_data)/255\n",
    "\n",
    "\n",
    "\n",
    "plt.imshow(train_data[45].reshape([28, 28]), cmap='Greys_r')\n",
    "plt.show()\n",
    "\n"
   ]
  },
  {
   "cell_type": "code",
   "execution_count": 6,
   "metadata": {},
   "outputs": [
    {
     "name": "stderr",
     "output_type": "stream",
     "text": [
      "Using TensorFlow backend.\n"
     ]
    }
   ],
   "source": [
    "from keras.utils import np_utils\n",
    "from keras.layers import Input, Dense, Dropout, Reshape,Conv2D,Flatten,MaxPooling2D\n",
    "from keras.models import Model,load_model\n",
    "from keras.callbacks import EarlyStopping, ModelCheckpoint,ReduceLROnPlateau\n",
    "from keras.preprocessing.image import ImageDataGenerator"
   ]
  },
  {
   "cell_type": "code",
   "execution_count": 7,
   "metadata": {},
   "outputs": [
    {
     "name": "stdout",
     "output_type": "stream",
     "text": [
      "_________________________________________________________________\n",
      "Layer (type)                 Output Shape              Param #   \n",
      "=================================================================\n",
      "input_1 (InputLayer)         (None, 28, 28, 1)         0         \n",
      "_________________________________________________________________\n",
      "conv2d_1 (Conv2D)            (None, 26, 26, 8)         80        \n",
      "_________________________________________________________________\n",
      "dropout_1 (Dropout)          (None, 26, 26, 8)         0         \n",
      "_________________________________________________________________\n",
      "conv2d_2 (Conv2D)            (None, 24, 24, 16)        1168      \n",
      "_________________________________________________________________\n",
      "max_pooling2d_1 (MaxPooling2 (None, 12, 12, 16)        0         \n",
      "_________________________________________________________________\n",
      "conv2d_3 (Conv2D)            (None, 12, 12, 32)        4640      \n",
      "_________________________________________________________________\n",
      "dropout_2 (Dropout)          (None, 12, 12, 32)        0         \n",
      "_________________________________________________________________\n",
      "conv2d_4 (Conv2D)            (None, 12, 12, 32)        9248      \n",
      "_________________________________________________________________\n",
      "max_pooling2d_2 (MaxPooling2 (None, 6, 6, 32)          0         \n",
      "_________________________________________________________________\n",
      "conv2d_5 (Conv2D)            (None, 6, 6, 64)          18496     \n",
      "_________________________________________________________________\n",
      "max_pooling2d_3 (MaxPooling2 (None, 3, 3, 64)          0         \n",
      "_________________________________________________________________\n",
      "flatten_1 (Flatten)          (None, 576)               0         \n",
      "_________________________________________________________________\n",
      "dropout_3 (Dropout)          (None, 576)               0         \n",
      "_________________________________________________________________\n",
      "dense_1 (Dense)              (None, 100)               57700     \n",
      "_________________________________________________________________\n",
      "dropout_4 (Dropout)          (None, 100)               0         \n",
      "_________________________________________________________________\n",
      "dense_2 (Dense)              (None, 47)                4747      \n",
      "=================================================================\n",
      "Total params: 96,079\n",
      "Trainable params: 96,079\n",
      "Non-trainable params: 0\n",
      "_________________________________________________________________\n"
     ]
    },
    {
     "name": "stderr",
     "output_type": "stream",
     "text": [
      "/anaconda3/envs/demo/lib/python3.6/site-packages/ipykernel_launcher.py:19: UserWarning: Update your `Model` call to the Keras 2 API: `Model(inputs=Tensor(\"in..., outputs=Tensor(\"de...)`\n"
     ]
    }
   ],
   "source": [
    "num_classes = 47\n",
    "inp = Input(shape=(28,28,1))\n",
    "#rel_input = Reshape((28,28,1))(inp)\n",
    "c1 = Conv2D(8, (3, 3), activation='relu')(inp)\n",
    "c1 = Dropout(0.2)(c1)\n",
    "c1 = Conv2D(16, (3, 3), activation='relu')(c1)\n",
    "c1 = MaxPooling2D(pool_size=(2, 2))(c1)\n",
    "c2 = Conv2D(32, (3, 3), activation='relu',padding=\"same\")(c1)\n",
    "c2 = Dropout(0.2)(c2)\n",
    "c2 = Conv2D(32, (3, 3), activation='relu',padding=\"same\")(c2)\n",
    "c2 = MaxPooling2D(pool_size=(2, 2))(c2)\n",
    "c3 = Conv2D(64, (3, 3), activation='relu',padding=\"same\")(c2)\n",
    "c3 = MaxPooling2D(pool_size=(2, 2))(c3)\n",
    "f = Flatten()(c3)\n",
    "f = Dropout(0.3)(f)\n",
    "h1 = Dense(100, activation='relu')(f) \n",
    "h1 = Dropout(0.3)(h1)\n",
    "out = Dense(num_classes, activation='softmax')(h1) \n",
    "model = Model(input=inp, output=out)\n",
    "\n",
    "model.summary()\n",
    "\n",
    "\n"
   ]
  },
  {
   "cell_type": "markdown",
   "metadata": {},
   "source": [
    "# training "
   ]
  },
  {
   "cell_type": "code",
   "execution_count": 8,
   "metadata": {},
   "outputs": [
    {
     "name": "stderr",
     "output_type": "stream",
     "text": [
      "/home/feng/.conda/envs/test/lib/python3.6/site-packages/ipykernel/__main__.py:15: UserWarning: The `nb_epoch` argument in `fit` has been renamed `epochs`.\n"
     ]
    },
    {
     "name": "stdout",
     "output_type": "stream",
     "text": [
      "Train on 101520 samples, validate on 11280 samples\n",
      "Epoch 1/50\n",
      "101520/101520 [==============================] - 8s 80us/step - loss: 1.3157 - acc: 0.6098 - val_loss: 0.5031 - val_acc: 0.8243\n",
      "\n",
      "Epoch 00001: val_loss improved from inf to 0.50307, saving model to model-emnist-nn0.h5\n",
      "Epoch 2/50\n",
      "101520/101520 [==============================] - 5s 52us/step - loss: 0.6143 - acc: 0.7951 - val_loss: 0.4144 - val_acc: 0.8512\n",
      "\n",
      "Epoch 00002: val_loss improved from 0.50307 to 0.41439, saving model to model-emnist-nn0.h5\n",
      "Epoch 3/50\n",
      "101520/101520 [==============================] - 5s 51us/step - loss: 0.5196 - acc: 0.8241 - val_loss: 0.3746 - val_acc: 0.8645\n",
      "\n",
      "Epoch 00003: val_loss improved from 0.41439 to 0.37461, saving model to model-emnist-nn0.h5\n",
      "Epoch 4/50\n",
      "101520/101520 [==============================] - 5s 51us/step - loss: 0.4786 - acc: 0.8358 - val_loss: 0.3551 - val_acc: 0.8702\n",
      "\n",
      "Epoch 00004: val_loss improved from 0.37461 to 0.35513, saving model to model-emnist-nn0.h5\n",
      "Epoch 5/50\n",
      "101520/101520 [==============================] - 5s 52us/step - loss: 0.4496 - acc: 0.8433 - val_loss: 0.3446 - val_acc: 0.8718\n",
      "\n",
      "Epoch 00005: val_loss improved from 0.35513 to 0.34459, saving model to model-emnist-nn0.h5\n",
      "Epoch 6/50\n",
      "101520/101520 [==============================] - 5s 52us/step - loss: 0.4312 - acc: 0.8493 - val_loss: 0.3424 - val_acc: 0.8752\n",
      "\n",
      "Epoch 00006: val_loss improved from 0.34459 to 0.34235, saving model to model-emnist-nn0.h5\n",
      "Epoch 7/50\n",
      "101520/101520 [==============================] - 5s 52us/step - loss: 0.4114 - acc: 0.8565 - val_loss: 0.3280 - val_acc: 0.8792\n",
      "\n",
      "Epoch 00007: val_loss improved from 0.34235 to 0.32803, saving model to model-emnist-nn0.h5\n",
      "Epoch 8/50\n",
      "101520/101520 [==============================] - 5s 53us/step - loss: 0.4014 - acc: 0.8575 - val_loss: 0.3210 - val_acc: 0.8813\n",
      "\n",
      "Epoch 00008: val_loss improved from 0.32803 to 0.32101, saving model to model-emnist-nn0.h5\n",
      "Epoch 9/50\n",
      "101520/101520 [==============================] - 5s 54us/step - loss: 0.3888 - acc: 0.8610 - val_loss: 0.3251 - val_acc: 0.8804\n",
      "\n",
      "Epoch 00009: val_loss did not improve from 0.32101\n",
      "Epoch 10/50\n",
      "101520/101520 [==============================] - 5s 53us/step - loss: 0.3797 - acc: 0.8654 - val_loss: 0.3135 - val_acc: 0.8821\n",
      "\n",
      "Epoch 00010: val_loss improved from 0.32101 to 0.31352, saving model to model-emnist-nn0.h5\n",
      "Epoch 11/50\n",
      "101520/101520 [==============================] - 5s 54us/step - loss: 0.3753 - acc: 0.8656 - val_loss: 0.3222 - val_acc: 0.8794\n",
      "\n",
      "Epoch 00011: val_loss did not improve from 0.31352\n",
      "Epoch 12/50\n",
      "101520/101520 [==============================] - 5s 52us/step - loss: 0.3700 - acc: 0.8669 - val_loss: 0.3105 - val_acc: 0.8827\n",
      "\n",
      "Epoch 00012: val_loss improved from 0.31352 to 0.31052, saving model to model-emnist-nn0.h5\n",
      "Epoch 13/50\n",
      "101520/101520 [==============================] - 5s 52us/step - loss: 0.3623 - acc: 0.8693 - val_loss: 0.3135 - val_acc: 0.8814\n",
      "\n",
      "Epoch 00013: val_loss did not improve from 0.31052\n",
      "Epoch 14/50\n",
      "101520/101520 [==============================] - 5s 53us/step - loss: 0.3555 - acc: 0.8715 - val_loss: 0.3094 - val_acc: 0.8823\n",
      "\n",
      "Epoch 00014: val_loss improved from 0.31052 to 0.30938, saving model to model-emnist-nn0.h5\n",
      "Epoch 15/50\n",
      "101520/101520 [==============================] - 5s 52us/step - loss: 0.3497 - acc: 0.8731 - val_loss: 0.3104 - val_acc: 0.8843\n",
      "\n",
      "Epoch 00015: val_loss did not improve from 0.30938\n",
      "Epoch 16/50\n",
      "101520/101520 [==============================] - 5s 52us/step - loss: 0.3467 - acc: 0.8739 - val_loss: 0.3098 - val_acc: 0.8833\n",
      "\n",
      "Epoch 00016: val_loss did not improve from 0.30938\n",
      "Epoch 17/50\n",
      "101520/101520 [==============================] - 5s 52us/step - loss: 0.3442 - acc: 0.8743 - val_loss: 0.3070 - val_acc: 0.8823\n",
      "\n",
      "Epoch 00017: val_loss improved from 0.30938 to 0.30697, saving model to model-emnist-nn0.h5\n",
      "Epoch 18/50\n",
      "101520/101520 [==============================] - 5s 52us/step - loss: 0.3411 - acc: 0.8755 - val_loss: 0.3018 - val_acc: 0.8861\n",
      "\n",
      "Epoch 00018: val_loss improved from 0.30697 to 0.30183, saving model to model-emnist-nn0.h5\n",
      "Epoch 19/50\n",
      "101520/101520 [==============================] - 5s 52us/step - loss: 0.3377 - acc: 0.8769 - val_loss: 0.3079 - val_acc: 0.8851\n",
      "\n",
      "Epoch 00019: val_loss did not improve from 0.30183\n",
      "Epoch 20/50\n",
      "101520/101520 [==============================] - 5s 52us/step - loss: 0.3357 - acc: 0.8781 - val_loss: 0.3088 - val_acc: 0.8854\n",
      "\n",
      "Epoch 00020: val_loss did not improve from 0.30183\n",
      "Epoch 21/50\n",
      "101520/101520 [==============================] - 5s 52us/step - loss: 0.3314 - acc: 0.8787 - val_loss: 0.3049 - val_acc: 0.8824\n",
      "\n",
      "Epoch 00021: val_loss did not improve from 0.30183\n",
      "\n",
      "Epoch 00021: ReduceLROnPlateau reducing learning rate to 0.00033000001567415896.\n",
      "Epoch 22/50\n",
      "101520/101520 [==============================] - 5s 52us/step - loss: 0.3101 - acc: 0.8841 - val_loss: 0.2960 - val_acc: 0.8888\n",
      "\n",
      "Epoch 00022: val_loss improved from 0.30183 to 0.29603, saving model to model-emnist-nn0.h5\n",
      "Epoch 23/50\n",
      "101520/101520 [==============================] - 5s 52us/step - loss: 0.3033 - acc: 0.8866 - val_loss: 0.2932 - val_acc: 0.8888\n",
      "\n",
      "Epoch 00023: val_loss improved from 0.29603 to 0.29325, saving model to model-emnist-nn0.h5\n",
      "Epoch 24/50\n",
      "101520/101520 [==============================] - 5s 52us/step - loss: 0.3007 - acc: 0.8884 - val_loss: 0.2930 - val_acc: 0.8883\n",
      "\n",
      "Epoch 00024: val_loss improved from 0.29325 to 0.29296, saving model to model-emnist-nn0.h5\n",
      "Epoch 25/50\n",
      "101520/101520 [==============================] - 5s 52us/step - loss: 0.3000 - acc: 0.8895 - val_loss: 0.2924 - val_acc: 0.8902\n",
      "\n",
      "Epoch 00025: val_loss improved from 0.29296 to 0.29242, saving model to model-emnist-nn0.h5\n",
      "Epoch 26/50\n",
      "101520/101520 [==============================] - 5s 52us/step - loss: 0.2985 - acc: 0.8890 - val_loss: 0.2927 - val_acc: 0.8886\n",
      "\n",
      "Epoch 00026: val_loss did not improve from 0.29242\n",
      "Epoch 27/50\n",
      "101520/101520 [==============================] - 5s 52us/step - loss: 0.2965 - acc: 0.8894 - val_loss: 0.2922 - val_acc: 0.8877\n",
      "\n",
      "Epoch 00027: val_loss improved from 0.29242 to 0.29220, saving model to model-emnist-nn0.h5\n",
      "Epoch 28/50\n",
      "101520/101520 [==============================] - 5s 52us/step - loss: 0.2946 - acc: 0.8909 - val_loss: 0.2907 - val_acc: 0.8899\n",
      "\n",
      "Epoch 00028: val_loss improved from 0.29220 to 0.29072, saving model to model-emnist-nn0.h5\n",
      "Epoch 29/50\n",
      "101520/101520 [==============================] - 5s 52us/step - loss: 0.2908 - acc: 0.8912 - val_loss: 0.2926 - val_acc: 0.8898\n",
      "\n",
      "Epoch 00029: val_loss did not improve from 0.29072\n",
      "Epoch 30/50\n",
      "101520/101520 [==============================] - 5s 52us/step - loss: 0.2928 - acc: 0.8905 - val_loss: 0.2901 - val_acc: 0.8900\n",
      "\n",
      "Epoch 00030: val_loss improved from 0.29072 to 0.29012, saving model to model-emnist-nn0.h5\n",
      "Epoch 31/50\n",
      "101520/101520 [==============================] - 5s 52us/step - loss: 0.2915 - acc: 0.8914 - val_loss: 0.2930 - val_acc: 0.8892\n",
      "\n",
      "Epoch 00031: val_loss did not improve from 0.29012\n",
      "Epoch 32/50\n",
      "101520/101520 [==============================] - 5s 52us/step - loss: 0.2892 - acc: 0.8917 - val_loss: 0.2919 - val_acc: 0.8891\n",
      "\n",
      "Epoch 00032: val_loss did not improve from 0.29012\n",
      "Epoch 33/50\n",
      "101520/101520 [==============================] - 5s 52us/step - loss: 0.2870 - acc: 0.8924 - val_loss: 0.2945 - val_acc: 0.8879\n",
      "\n",
      "Epoch 00033: val_loss did not improve from 0.29012\n",
      "\n",
      "Epoch 00033: ReduceLROnPlateau reducing learning rate to 0.00010890000325161964.\n",
      "Epoch 34/50\n",
      "101520/101520 [==============================] - 5s 52us/step - loss: 0.2824 - acc: 0.8943 - val_loss: 0.2886 - val_acc: 0.8906\n",
      "\n",
      "Epoch 00034: val_loss improved from 0.29012 to 0.28864, saving model to model-emnist-nn0.h5\n",
      "Epoch 35/50\n",
      "101520/101520 [==============================] - 5s 52us/step - loss: 0.2805 - acc: 0.8948 - val_loss: 0.2904 - val_acc: 0.8901\n",
      "\n",
      "Epoch 00035: val_loss did not improve from 0.28864\n",
      "Epoch 36/50\n",
      "101520/101520 [==============================] - 5s 52us/step - loss: 0.2800 - acc: 0.8943 - val_loss: 0.2881 - val_acc: 0.8898\n",
      "\n",
      "Epoch 00036: val_loss improved from 0.28864 to 0.28808, saving model to model-emnist-nn0.h5\n",
      "Epoch 37/50\n",
      "101520/101520 [==============================] - 5s 52us/step - loss: 0.2798 - acc: 0.8935 - val_loss: 0.2867 - val_acc: 0.8902\n",
      "\n",
      "Epoch 00037: val_loss improved from 0.28808 to 0.28674, saving model to model-emnist-nn0.h5\n",
      "Epoch 38/50\n"
     ]
    },
    {
     "name": "stdout",
     "output_type": "stream",
     "text": [
      "101520/101520 [==============================] - 5s 51us/step - loss: 0.2773 - acc: 0.8955 - val_loss: 0.2876 - val_acc: 0.8906\n",
      "\n",
      "Epoch 00038: val_loss did not improve from 0.28674\n",
      "Epoch 39/50\n",
      "101520/101520 [==============================] - 5s 50us/step - loss: 0.2784 - acc: 0.8944 - val_loss: 0.2878 - val_acc: 0.8909\n",
      "\n",
      "Epoch 00039: val_loss did not improve from 0.28674\n",
      "Epoch 40/50\n",
      "101520/101520 [==============================] - 5s 50us/step - loss: 0.2778 - acc: 0.8953 - val_loss: 0.2896 - val_acc: 0.8902\n",
      "\n",
      "Epoch 00040: val_loss did not improve from 0.28674\n",
      "\n",
      "Epoch 00040: ReduceLROnPlateau reducing learning rate to 3.5936999920522795e-05.\n",
      "Epoch 41/50\n",
      "101520/101520 [==============================] - 5s 51us/step - loss: 0.2752 - acc: 0.8965 - val_loss: 0.2878 - val_acc: 0.8908\n",
      "\n",
      "Epoch 00041: val_loss did not improve from 0.28674\n",
      "Epoch 42/50\n",
      "101520/101520 [==============================] - 5s 50us/step - loss: 0.2746 - acc: 0.8966 - val_loss: 0.2876 - val_acc: 0.8912\n",
      "\n",
      "Epoch 00042: val_loss did not improve from 0.28674\n",
      "Epoch 43/50\n",
      "101520/101520 [==============================] - 5s 50us/step - loss: 0.2762 - acc: 0.8953 - val_loss: 0.2866 - val_acc: 0.8915\n",
      "\n",
      "Epoch 00043: val_loss improved from 0.28674 to 0.28659, saving model to model-emnist-nn0.h5\n",
      "Epoch 44/50\n",
      "101520/101520 [==============================] - 5s 51us/step - loss: 0.2772 - acc: 0.8956 - val_loss: 0.2873 - val_acc: 0.8911\n",
      "\n",
      "Epoch 00044: val_loss did not improve from 0.28659\n",
      "Epoch 45/50\n",
      "101520/101520 [==============================] - 5s 50us/step - loss: 0.2727 - acc: 0.8957 - val_loss: 0.2866 - val_acc: 0.8915\n",
      "\n",
      "Epoch 00045: val_loss improved from 0.28659 to 0.28655, saving model to model-emnist-nn0.h5\n",
      "Epoch 46/50\n",
      "101520/101520 [==============================] - 5s 50us/step - loss: 0.2741 - acc: 0.8961 - val_loss: 0.2875 - val_acc: 0.8904\n",
      "\n",
      "Epoch 00046: val_loss did not improve from 0.28655\n",
      "\n",
      "Epoch 00046: ReduceLROnPlateau reducing learning rate to 1.185920958960196e-05.\n",
      "Epoch 47/50\n",
      "101520/101520 [==============================] - 5s 51us/step - loss: 0.2748 - acc: 0.8956 - val_loss: 0.2864 - val_acc: 0.8909\n",
      "\n",
      "Epoch 00047: val_loss improved from 0.28655 to 0.28640, saving model to model-emnist-nn0.h5\n",
      "Epoch 48/50\n",
      "101520/101520 [==============================] - 5s 50us/step - loss: 0.2735 - acc: 0.8969 - val_loss: 0.2865 - val_acc: 0.8906\n",
      "\n",
      "Epoch 00048: val_loss did not improve from 0.28640\n",
      "Epoch 49/50\n",
      "101520/101520 [==============================] - 5s 50us/step - loss: 0.2718 - acc: 0.8970 - val_loss: 0.2870 - val_acc: 0.8905\n",
      "\n",
      "Epoch 00049: val_loss did not improve from 0.28640\n",
      "Epoch 50/50\n",
      "101520/101520 [==============================] - 5s 51us/step - loss: 0.2710 - acc: 0.8971 - val_loss: 0.2870 - val_acc: 0.8910\n",
      "\n",
      "Epoch 00050: val_loss did not improve from 0.28640\n",
      "\n",
      "Epoch 00050: ReduceLROnPlateau reducing learning rate to 1e-05.\n"
     ]
    }
   ],
   "source": [
    "from keras.utils import multi_gpu_model\n",
    "\n",
    "parallel_model = multi_gpu_model(model, gpus=4)\n",
    "\n",
    "parallel_model.compile(loss='categorical_crossentropy', # using the cross-entropy loss function\n",
    "              optimizer='adam', # using the Adam optimiser\n",
    "              metrics=['accuracy']) # reporting the accuracy\n",
    "\n",
    "reduce_lr = ReduceLROnPlateau(factor=0.33, patience=3, min_lr=0.00001, verbose=1)\n",
    "checkpointer = ModelCheckpoint('model-emnist-nn0.h5', verbose=1, save_best_only=True)\n",
    "earlystopper = EarlyStopping(patience=8, verbose=1)\n",
    "\n",
    "history=parallel_model.fit(train_data, train_labels, # Train the model using the training set...\n",
    "          batch_size=128, nb_epoch=50,\n",
    "          verbose=1, validation_split=0.1,callbacks=[earlystopper,checkpointer,reduce_lr]) # ...holding out 10% of the data for validation\n",
    "\n",
    "\n"
   ]
  },
  {
   "cell_type": "markdown",
   "metadata": {},
   "source": [
    "# with agumentation"
   ]
  },
  {
   "cell_type": "code",
   "execution_count": 18,
   "metadata": {},
   "outputs": [
    {
     "name": "stdout",
     "output_type": "stream",
     "text": [
      "Epoch 1/50\n",
      "882/881 [==============================] - 19s 21ms/step - loss: 1.4976 - acc: 0.5582 - val_loss: 0.5047 - val_acc: 0.8296\n",
      "\n",
      "Epoch 00001: val_loss improved from inf to 0.50467, saving model to model-emnist-nn.h5\n",
      "Epoch 2/50\n",
      "882/881 [==============================] - 18s 20ms/step - loss: 0.6800 - acc: 0.7705 - val_loss: 0.4256 - val_acc: 0.8500\n",
      "\n",
      "Epoch 00002: val_loss improved from 0.50467 to 0.42561, saving model to model-emnist-nn.h5\n",
      "Epoch 3/50\n",
      "882/881 [==============================] - 18s 20ms/step - loss: 0.5493 - acc: 0.8091 - val_loss: 0.4009 - val_acc: 0.8595\n",
      "\n",
      "Epoch 00003: val_loss improved from 0.42561 to 0.40095, saving model to model-emnist-nn.h5\n",
      "Epoch 4/50\n",
      "882/881 [==============================] - 18s 20ms/step - loss: 0.4882 - acc: 0.8272 - val_loss: 0.3922 - val_acc: 0.8612\n",
      "\n",
      "Epoch 00004: val_loss improved from 0.40095 to 0.39222, saving model to model-emnist-nn.h5\n",
      "Epoch 5/50\n",
      "882/881 [==============================] - 18s 20ms/step - loss: 0.4512 - acc: 0.8376 - val_loss: 0.3795 - val_acc: 0.8659\n",
      "\n",
      "Epoch 00005: val_loss improved from 0.39222 to 0.37948, saving model to model-emnist-nn.h5\n",
      "Epoch 6/50\n",
      "882/881 [==============================] - 18s 20ms/step - loss: 0.4229 - acc: 0.8457 - val_loss: 0.3778 - val_acc: 0.8661\n",
      "\n",
      "Epoch 00006: val_loss improved from 0.37948 to 0.37784, saving model to model-emnist-nn.h5\n",
      "Epoch 7/50\n",
      "882/881 [==============================] - 18s 20ms/step - loss: 0.4015 - acc: 0.8513 - val_loss: 0.3845 - val_acc: 0.8631\n",
      "\n",
      "Epoch 00007: val_loss did not improve from 0.37784\n",
      "Epoch 8/50\n",
      "882/881 [==============================] - 18s 20ms/step - loss: 0.3817 - acc: 0.8569 - val_loss: 0.3669 - val_acc: 0.8724\n",
      "\n",
      "Epoch 00008: val_loss improved from 0.37784 to 0.36691, saving model to model-emnist-nn.h5\n",
      "Epoch 9/50\n",
      "882/881 [==============================] - 18s 20ms/step - loss: 0.3710 - acc: 0.8608 - val_loss: 0.3735 - val_acc: 0.8670\n",
      "\n",
      "Epoch 00009: val_loss did not improve from 0.36691\n",
      "Epoch 10/50\n",
      "882/881 [==============================] - 18s 20ms/step - loss: 0.3610 - acc: 0.8629 - val_loss: 0.3646 - val_acc: 0.8714\n",
      "\n",
      "Epoch 00010: val_loss improved from 0.36691 to 0.36459, saving model to model-emnist-nn.h5\n",
      "Epoch 11/50\n",
      "882/881 [==============================] - 18s 20ms/step - loss: 0.3501 - acc: 0.8671 - val_loss: 0.3639 - val_acc: 0.8720\n",
      "\n",
      "Epoch 00011: val_loss improved from 0.36459 to 0.36390, saving model to model-emnist-nn.h5\n",
      "Epoch 12/50\n",
      "882/881 [==============================] - 18s 20ms/step - loss: 0.3368 - acc: 0.8717 - val_loss: 0.3631 - val_acc: 0.8743\n",
      "\n",
      "Epoch 00012: val_loss improved from 0.36390 to 0.36307, saving model to model-emnist-nn.h5\n",
      "Epoch 13/50\n",
      "882/881 [==============================] - 18s 20ms/step - loss: 0.3297 - acc: 0.8734 - val_loss: 0.3635 - val_acc: 0.8724\n",
      "\n",
      "Epoch 00013: val_loss did not improve from 0.36307\n",
      "Epoch 14/50\n",
      "882/881 [==============================] - 18s 20ms/step - loss: 0.3233 - acc: 0.8734 - val_loss: 0.3681 - val_acc: 0.8711\n",
      "\n",
      "Epoch 00014: val_loss did not improve from 0.36307\n",
      "Epoch 15/50\n",
      "882/881 [==============================] - 18s 20ms/step - loss: 0.3188 - acc: 0.8763 - val_loss: 0.3663 - val_acc: 0.8739\n",
      "\n",
      "Epoch 00015: val_loss did not improve from 0.36307\n",
      "\n",
      "Epoch 00015: ReduceLROnPlateau reducing learning rate to 0.00033000001567415896.\n",
      "Epoch 16/50\n",
      "882/881 [==============================] - 18s 20ms/step - loss: 0.2916 - acc: 0.8868 - val_loss: 0.3535 - val_acc: 0.8779\n",
      "\n",
      "Epoch 00016: val_loss improved from 0.36307 to 0.35350, saving model to model-emnist-nn.h5\n",
      "Epoch 17/50\n",
      "882/881 [==============================] - 18s 20ms/step - loss: 0.2757 - acc: 0.8914 - val_loss: 0.3600 - val_acc: 0.8775\n",
      "\n",
      "Epoch 00017: val_loss did not improve from 0.35350\n",
      "Epoch 18/50\n",
      "882/881 [==============================] - 18s 20ms/step - loss: 0.2721 - acc: 0.8933 - val_loss: 0.3618 - val_acc: 0.8779\n",
      "\n",
      "Epoch 00018: val_loss did not improve from 0.35350\n",
      "Epoch 19/50\n",
      "882/881 [==============================] - 18s 21ms/step - loss: 0.2704 - acc: 0.8936 - val_loss: 0.3668 - val_acc: 0.8779\n",
      "\n",
      "Epoch 00019: val_loss did not improve from 0.35350\n",
      "\n",
      "Epoch 00019: ReduceLROnPlateau reducing learning rate to 0.00010890000325161964.\n",
      "Epoch 20/50\n",
      "882/881 [==============================] - 18s 20ms/step - loss: 0.2583 - acc: 0.8974 - val_loss: 0.3624 - val_acc: 0.8791\n",
      "\n",
      "Epoch 00020: val_loss did not improve from 0.35350\n",
      "Epoch 21/50\n",
      "882/881 [==============================] - 18s 20ms/step - loss: 0.2572 - acc: 0.8990 - val_loss: 0.3620 - val_acc: 0.8790\n",
      "\n",
      "Epoch 00021: val_loss did not improve from 0.35350\n",
      "Epoch 22/50\n",
      "882/881 [==============================] - 18s 20ms/step - loss: 0.2555 - acc: 0.8987 - val_loss: 0.3634 - val_acc: 0.8785\n",
      "\n",
      "Epoch 00022: val_loss did not improve from 0.35350\n",
      "\n",
      "Epoch 00022: ReduceLROnPlateau reducing learning rate to 3.5936999920522795e-05.\n",
      "Epoch 23/50\n",
      "882/881 [==============================] - 18s 20ms/step - loss: 0.2528 - acc: 0.9004 - val_loss: 0.3635 - val_acc: 0.8790\n",
      "\n",
      "Epoch 00023: val_loss did not improve from 0.35350\n",
      "Epoch 24/50\n",
      "882/881 [==============================] - 18s 20ms/step - loss: 0.2509 - acc: 0.9002 - val_loss: 0.3631 - val_acc: 0.8793\n",
      "\n",
      "Epoch 00024: val_loss did not improve from 0.35350\n",
      "Epoch 00024: early stopping\n",
      "18800/18800 [==============================] - 4s 191us/step\n",
      "[0.38007631676628234, 0.87755319148936173]\n"
     ]
    }
   ],
   "source": [
    "datagen = ImageDataGenerator(\n",
    "    #featurewise_center=True,\n",
    "    #featurewise_std_normalization=True,\n",
    "    rotation_range=5,\n",
    "    width_shift_range=0.1,\n",
    "    height_shift_range=0.1,\n",
    "    #shear_range = 0.05,\n",
    "    horizontal_flip=False)\n",
    "\n",
    "datagen.fit(train_data)\n",
    "\n",
    "# fits the model on batches with real-time data augmentation:\n",
    "parallel_model.fit_generator(datagen.flow(train_data[:10000], train_labels[:10000],batch_size=128), \n",
    "                             steps_per_epoch=len(train_data) / 128, epochs = 50,\n",
    "          verbose=1, validation_data=(train_data[10000:], train_labels[10000:]),callbacks=[earlystopper,checkpointer,reduce_lr])\n",
    "\n",
    "\n",
    "print(parallel_model.evaluate(test_data, test_labels, verbose=1)) # Evaluate the trained model on the test set!\n"
   ]
  },
  {
   "cell_type": "code",
   "execution_count": 8,
   "metadata": {},
   "outputs": [],
   "source": [
    "model=load_model('model-emnist-nn0.h5')"
   ]
  },
  {
   "cell_type": "markdown",
   "metadata": {},
   "source": [
    "# evaluation"
   ]
  },
  {
   "cell_type": "code",
   "execution_count": 9,
   "metadata": {},
   "outputs": [
    {
     "name": "stdout",
     "output_type": "stream",
     "text": [
      "11280/11280 [==============================] - 4s 353us/step\n"
     ]
    },
    {
     "data": {
      "text/plain": [
       "[0.28639825538117836, 0.8908687943262411]"
      ]
     },
     "execution_count": 9,
     "metadata": {},
     "output_type": "execute_result"
    }
   ],
   "source": [
    "model.evaluate(train_data[-11280:],train_labels[-11280:])"
   ]
  },
  {
   "cell_type": "markdown",
   "metadata": {},
   "source": [
    "# error analyze"
   ]
  },
  {
   "cell_type": "code",
   "execution_count": 14,
   "metadata": {},
   "outputs": [],
   "source": [
    "id_name = {0:'0',1:'1',2:'2',3:'3',4:'4',5:'5',6:'6',7:'7',\n",
    "        8:'8',9:'9',10 :\"A\",11 :\"B\",12 :\"C\",13 :\"D\",14 :\"E\",15 :\"F\",\n",
    "        16 :\"G\",17 :\"H\",18 :\"I\",19 :\"J\",20 :\"K\",21 :\"L\",22 :\"M\",\n",
    "        23 :\"N\",24 :\"O\",25 :\"P\",26 :\"Q\",27 :\"R\",28 :\"S\",29 :\"T\",\n",
    "        30 :\"U\",31 :\"V\",32 :\"W\",33 :\"X\",34 :\"Y\",35 :\"Z\",36 :\"a\",\n",
    "        37:\"b\",38:\"d\",39:\"e\",40:\"f\",41:\"g\",42:\"h\",43:\"n\",44:\"q\",\n",
    "        45:\"r\",46:\"t\"\n",
    "}"
   ]
  },
  {
   "cell_type": "code",
   "execution_count": 10,
   "metadata": {},
   "outputs": [
    {
     "data": {
      "text/plain": [
       "101520.0"
      ]
     },
     "execution_count": 10,
     "metadata": {},
     "output_type": "execute_result"
    }
   ],
   "source": [
    "len(train_labels)*0.9"
   ]
  },
  {
   "cell_type": "code",
   "execution_count": 11,
   "metadata": {},
   "outputs": [],
   "source": [
    "prediction = model.predict(train_data[101520:])"
   ]
  },
  {
   "cell_type": "code",
   "execution_count": 12,
   "metadata": {},
   "outputs": [
    {
     "name": "stdout",
     "output_type": "stream",
     "text": [
      "101534\n",
      "101544\n",
      "101545\n",
      "101549\n",
      "101556\n",
      "101568\n",
      "101572\n",
      "101597\n",
      "101599\n",
      "101602\n",
      "101605\n",
      "101608\n",
      "101609\n",
      "101634\n",
      "101637\n",
      "101640\n",
      "101649\n",
      "101653\n",
      "101654\n",
      "101656\n",
      "101666\n",
      "101672\n",
      "101701\n",
      "101702\n",
      "101704\n",
      "101712\n",
      "101724\n",
      "101735\n",
      "101742\n",
      "101743\n",
      "101745\n",
      "101760\n",
      "101765\n",
      "101784\n",
      "101788\n",
      "101805\n",
      "101817\n",
      "101842\n",
      "101851\n",
      "101853\n",
      "101857\n",
      "101871\n",
      "101879\n",
      "101887\n",
      "101891\n",
      "101898\n",
      "101907\n",
      "101916\n",
      "101928\n",
      "101931\n",
      "101932\n",
      "101936\n",
      "101941\n",
      "101944\n",
      "101952\n",
      "101983\n",
      "101996\n",
      "101997\n",
      "102008\n",
      "102009\n",
      "102010\n",
      "102022\n",
      "102023\n",
      "102025\n",
      "102031\n",
      "102039\n",
      "102046\n",
      "102050\n",
      "102051\n",
      "102056\n",
      "102064\n",
      "102065\n",
      "102068\n",
      "102073\n",
      "102074\n",
      "102095\n",
      "102102\n",
      "102103\n",
      "102106\n",
      "102108\n",
      "102111\n",
      "102113\n",
      "102121\n",
      "102129\n",
      "102141\n",
      "102153\n",
      "102159\n",
      "102164\n",
      "102176\n",
      "102183\n",
      "102209\n",
      "102217\n",
      "102235\n",
      "102238\n",
      "102254\n",
      "102259\n",
      "102262\n",
      "102268\n",
      "102283\n",
      "102287\n",
      "102309\n",
      "102310\n",
      "102319\n",
      "102328\n",
      "102337\n",
      "102345\n",
      "102350\n",
      "102357\n",
      "102372\n",
      "102373\n",
      "102377\n",
      "102387\n",
      "102400\n",
      "102402\n",
      "102408\n",
      "102415\n",
      "102438\n",
      "102442\n",
      "102447\n",
      "102448\n",
      "102468\n",
      "102476\n",
      "102479\n",
      "102497\n",
      "102501\n",
      "102509\n",
      "102515\n",
      "102517\n"
     ]
    }
   ],
   "source": [
    "for i in range(101520,101520+1000):\n",
    "    if np.argmax(prediction[i-101520])!=np.argmax(train_labels[i]):\n",
    "        print(i)"
   ]
  },
  {
   "cell_type": "code",
   "execution_count": 15,
   "metadata": {},
   "outputs": [
    {
     "name": "stdout",
     "output_type": "stream",
     "text": [
      "Label: F\n",
      "pre： F\n"
     ]
    },
    {
     "data": {
      "image/png": "[encoded data removed]",
      "text/plain": [
       "<Figure size 432x288 with 1 Axes>"
      ]
     },
     "metadata": {},
     "output_type": "display_data"
    }
   ],
   "source": [
    "idx = 101830\n",
    "plt.imshow(train_data[idx][:,:,0],cmap='gray')\n",
    "print(\"Label:\",id_name[np.argmax(train_labels[idx])])\n",
    "print(\"pre：\",id_name[np.argmax(prediction[idx-101520])])"
   ]
  },
  {
   "cell_type": "code",
   "execution_count": 16,
   "metadata": {},
   "outputs": [
    {
     "name": "stdout",
     "output_type": "stream",
     "text": [
      "1\n"
     ]
    },
    {
     "data": {
      "image/png": "[encoded data removed]",
      "text/plain": [
       "<Figure size 432x288 with 1 Axes>"
      ]
     },
     "metadata": {},
     "output_type": "display_data"
    }
   ],
   "source": [
    "idx = 9\n",
    "plt.imshow(train_data[idx][:,:,0],cmap='gray')\n",
    "print(id_name[np.argmax(train_labels[idx])])\n",
    "#print(np.argmax(train_labels[idx])-10)"
   ]
  },
  {
   "cell_type": "code",
   "execution_count": 1,
   "metadata": {},
   "outputs": [
    {
     "ename": "NameError",
     "evalue": "name 'plt' is not defined",
     "output_type": "error",
     "traceback": [
      "\u001b[0;31m---------------------------------------------------------------------------\u001b[0m",
      "\u001b[0;31mNameError\u001b[0m                                 Traceback (most recent call last)",
      "\u001b[0;32m<ipython-input-1-e960b9bdbc3f>\u001b[0m in \u001b[0;36m<module>\u001b[0;34m()\u001b[0m\n\u001b[0;32m----> 1\u001b[0;31m \u001b[0mtmp\u001b[0m \u001b[0;34m=\u001b[0m \u001b[0mplt\u001b[0m\u001b[0;34m.\u001b[0m\u001b[0mimread\u001b[0m\u001b[0;34m(\u001b[0m\u001b[0;34m\"./real/j.png\"\u001b[0m\u001b[0;34m)\u001b[0m\u001b[0;34m[\u001b[0m\u001b[0;34m:\u001b[0m\u001b[0;34m,\u001b[0m\u001b[0;34m:\u001b[0m\u001b[0;34m,\u001b[0m\u001b[0;36m0\u001b[0m\u001b[0;34m]\u001b[0m\u001b[0;34m\u001b[0m\u001b[0m\n\u001b[0m\u001b[1;32m      2\u001b[0m \u001b[0mplt\u001b[0m\u001b[0;34m.\u001b[0m\u001b[0mimshow\u001b[0m\u001b[0;34m(\u001b[0m\u001b[0;36m1.0\u001b[0m\u001b[0;34m*\u001b[0m\u001b[0;34m(\u001b[0m\u001b[0mtmp\u001b[0m\u001b[0;34m<\u001b[0m\u001b[0;36m0.5\u001b[0m\u001b[0;34m)\u001b[0m\u001b[0;34m,\u001b[0m \u001b[0mcmap\u001b[0m\u001b[0;34m=\u001b[0m\u001b[0;34m'gray'\u001b[0m\u001b[0;34m)\u001b[0m\u001b[0;34m\u001b[0m\u001b[0m\n",
      "\u001b[0;31mNameError\u001b[0m: name 'plt' is not defined"
     ]
    }
   ],
   "source": [
    "tmp = plt.imread(\"./real/j.png\")[:,:,0]\n",
    "plt.imshow(1.0*(tmp<0.5), cmap='gray')"
   ]
  },
  {
   "cell_type": "code",
   "execution_count": 24,
   "metadata": {},
   "outputs": [
    {
     "data": {
      "text/plain": [
       "<matplotlib.image.AxesImage at 0x127bfe240>"
      ]
     },
     "execution_count": 24,
     "metadata": {},
     "output_type": "execute_result"
    },
    {
     "data": {
      "image/png": "[encoded data removed]",
      "text/plain": [
       "<Figure size 432x288 with 1 Axes>"
      ]
     },
     "metadata": {},
     "output_type": "display_data"
    }
   ],
   "source": [
    "txtt = 1.0*(tmp<0.5)\n",
    "txtt = cv2.resize(txtt, (28, 28))\n",
    "plt.imshow(txtt,cmap='gray')"
   ]
  },
  {
   "cell_type": "code",
   "execution_count": 4,
   "metadata": {},
   "outputs": [
    {
     "name": "stdout",
     "output_type": "stream",
     "text": [
      "['./real/3.png', './real/6.png', './real/7.png', './real/A.png', './real/B.png', './real/e.png', './real/h.png', './real/j.png', './real/k.png', './real/m.png', './real/p.png', './real/Q.png', './real/R.png', './real/w.png', './real/x.png', './real/z.png']\n"
     ]
    }
   ],
   "source": [
    "import glob\n",
    "real_test= glob.glob(\"./real/*\")\n",
    "print(real_test)\n",
    "\n",
    "\n",
    "test_R_1 = []    \n",
    "for e in real_test:\n",
    "    tmp = plt.imread(e)[:,:,0]\n",
    "    tmp = 1.0*(tmp<0.67)\n",
    "    sss =  cv2.resize(tmp, (28, 28))\n",
    "    sss = 1.0*(sss>0.01)\n",
    "    sss = sss.reshape(28,28,1)\n",
    "    test_R_1.append(sss)\n",
    "    \n",
    "test_R_2 = []    \n",
    "for e in real_test:\n",
    "    tmp = plt.imread(e)[:,:,0]\n",
    "    tmp = 1.0*(tmp<0.37)\n",
    "    sss =  cv2.resize(tmp, (28, 28))\n",
    "    sss = 1.0*(sss>0.01)\n",
    "    sss = sss.reshape(28,28,1)\n",
    "    test_R_2.append(sss)"
   ]
  },
  {
   "cell_type": "code",
   "execution_count": 49,
   "metadata": {},
   "outputs": [],
   "source": [
    "preR_1 = model.predict(np.array(test_R_1))\n",
    "preR_2 = model.predict(np.array(test_R_2))"
   ]
  },
  {
   "cell_type": "code",
   "execution_count": 50,
   "metadata": {},
   "outputs": [
    {
     "name": "stdout",
     "output_type": "stream",
     "text": [
      "pre 0.67： 3 pre 0.37： 3\n",
      "pre 0.67： 6 pre 0.37： 6\n",
      "pre 0.67： 7 pre 0.37： 7\n",
      "pre 0.67： A pre 0.37： A\n",
      "pre 0.67： B pre 0.37： B\n",
      "pre 0.67： e pre 0.37： e\n",
      "pre 0.67： h pre 0.37： h\n",
      "pre 0.67： G pre 0.37： G\n",
      "pre 0.67： B pre 0.37： K\n",
      "pre 0.67： M pre 0.37： M\n",
      "pre 0.67： P pre 0.37： P\n",
      "pre 0.67： Q pre 0.37： Q\n",
      "pre 0.67： A pre 0.37： R\n",
      "pre 0.67： 1 pre 0.37： W\n",
      "pre 0.67： X pre 0.37： X\n",
      "pre 0.67： Z pre 0.37： Z\n"
     ]
    }
   ],
   "source": [
    "for i in range(len(preR_1)):\n",
    "    print(\"pre 0.67：\",id_name[np.argmax(preR_1[i])], \"pre 0.37：\",id_name[np.argmax(preR_2[i])])"
   ]
  },
  {
   "cell_type": "code",
   "execution_count": 263,
   "metadata": {},
   "outputs": [
    {
     "name": "stdout",
     "output_type": "stream",
     "text": [
      "pre： A\n"
     ]
    }
   ],
   "source": [
    "print(\"pre：\",id_name[np.argmax(preR[8])])"
   ]
  },
  {
   "cell_type": "code",
   "execution_count": 2,
   "metadata": {},
   "outputs": [
    {
     "ename": "NameError",
     "evalue": "name 'plt' is not defined",
     "output_type": "error",
     "traceback": [
      "\u001b[0;31m---------------------------------------------------------------------------\u001b[0m",
      "\u001b[0;31mNameError\u001b[0m                                 Traceback (most recent call last)",
      "\u001b[0;32m<ipython-input-2-7638c3844a7b>\u001b[0m in \u001b[0;36m<module>\u001b[0;34m()\u001b[0m\n\u001b[0;32m----> 1\u001b[0;31m \u001b[0mplt\u001b[0m\u001b[0;34m.\u001b[0m\u001b[0mimshow\u001b[0m\u001b[0;34m(\u001b[0m\u001b[0mtest_R_1\u001b[0m\u001b[0;34m[\u001b[0m\u001b[0;36m11\u001b[0m\u001b[0;34m]\u001b[0m\u001b[0;34m[\u001b[0m\u001b[0;34m:\u001b[0m\u001b[0;34m,\u001b[0m\u001b[0;34m:\u001b[0m\u001b[0;34m,\u001b[0m\u001b[0;36m0\u001b[0m\u001b[0;34m]\u001b[0m\u001b[0;34m)\u001b[0m\u001b[0;34m\u001b[0m\u001b[0m\n\u001b[0m",
      "\u001b[0;31mNameError\u001b[0m: name 'plt' is not defined"
     ]
    }
   ],
   "source": [
    "plt.imshow(test_R_1[11][:,:,0])"
   ]
  },
  {
   "cell_type": "code",
   "execution_count": 6,
   "metadata": {},
   "outputs": [
    {
     "data": {
      "text/plain": [
       "<matplotlib.image.AxesImage at 0x1204f1240>"
      ]
     },
     "execution_count": 6,
     "metadata": {},
     "output_type": "execute_result"
    },
    {
     "data": {
      "image/png": "[encoded data removed]",
      "text/plain": [
       "<Figure size 432x288 with 1 Axes>"
      ]
     },
     "metadata": {},
     "output_type": "display_data"
    }
   ],
   "source": [
    "plt.imshow(test_R_2[7][:,:,0])"
   ]
  },
  {
   "cell_type": "code",
   "execution_count": null,
   "metadata": {},
   "outputs": [],
   "source": []
  }
 ],
 "metadata": {
  "kernelspec": {
   "display_name": "Python 3",
   "language": "python",
   "name": "python3"
  },
  "language_info": {
   "codemirror_mode": {
    "name": "ipython",
    "version": 3
   },
   "file_extension": ".py",
   "mimetype": "text/x-python",
   "name": "python",
   "nbconvert_exporter": "python",
   "pygments_lexer": "ipython3",
   "version": "3.6.6"
  }
 },
 "nbformat": 4,
 "nbformat_minor": 2
}
